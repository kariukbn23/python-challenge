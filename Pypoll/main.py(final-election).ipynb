{
 "cells": [
  {
   "cell_type": "code",
   "execution_count": 72,
   "metadata": {},
   "outputs": [],
   "source": [
    "# Import modules or dependencies \n",
    "\n",
    "import csv\n",
    "import pandas as pd "
   ]
  },
  {
   "cell_type": "code",
   "execution_count": 73,
   "metadata": {},
   "outputs": [
    {
     "data": {
      "text/html": [
       "<div>\n",
       "<style scoped>\n",
       "    .dataframe tbody tr th:only-of-type {\n",
       "        vertical-align: middle;\n",
       "    }\n",
       "\n",
       "    .dataframe tbody tr th {\n",
       "        vertical-align: top;\n",
       "    }\n",
       "\n",
       "    .dataframe thead th {\n",
       "        text-align: right;\n",
       "    }\n",
       "</style>\n",
       "<table border=\"1\" class=\"dataframe\">\n",
       "  <thead>\n",
       "    <tr style=\"text-align: right;\">\n",
       "      <th></th>\n",
       "      <th>Voter ID</th>\n",
       "      <th>County</th>\n",
       "      <th>Candidate</th>\n",
       "    </tr>\n",
       "  </thead>\n",
       "  <tbody>\n",
       "    <tr>\n",
       "      <th>0</th>\n",
       "      <td>12864552</td>\n",
       "      <td>Marsh</td>\n",
       "      <td>Khan</td>\n",
       "    </tr>\n",
       "    <tr>\n",
       "      <th>1</th>\n",
       "      <td>17444633</td>\n",
       "      <td>Marsh</td>\n",
       "      <td>Correy</td>\n",
       "    </tr>\n",
       "    <tr>\n",
       "      <th>2</th>\n",
       "      <td>19330107</td>\n",
       "      <td>Marsh</td>\n",
       "      <td>Khan</td>\n",
       "    </tr>\n",
       "    <tr>\n",
       "      <th>3</th>\n",
       "      <td>19865775</td>\n",
       "      <td>Queen</td>\n",
       "      <td>Khan</td>\n",
       "    </tr>\n",
       "    <tr>\n",
       "      <th>4</th>\n",
       "      <td>11927875</td>\n",
       "      <td>Marsh</td>\n",
       "      <td>Khan</td>\n",
       "    </tr>\n",
       "    <tr>\n",
       "      <th>...</th>\n",
       "      <td>...</td>\n",
       "      <td>...</td>\n",
       "      <td>...</td>\n",
       "    </tr>\n",
       "    <tr>\n",
       "      <th>3520996</th>\n",
       "      <td>18050509</td>\n",
       "      <td>Marsh</td>\n",
       "      <td>Khan</td>\n",
       "    </tr>\n",
       "    <tr>\n",
       "      <th>3520997</th>\n",
       "      <td>13060332</td>\n",
       "      <td>Marsh</td>\n",
       "      <td>Khan</td>\n",
       "    </tr>\n",
       "    <tr>\n",
       "      <th>3520998</th>\n",
       "      <td>16754708</td>\n",
       "      <td>Queen</td>\n",
       "      <td>Khan</td>\n",
       "    </tr>\n",
       "    <tr>\n",
       "      <th>3520999</th>\n",
       "      <td>12083146</td>\n",
       "      <td>Queen</td>\n",
       "      <td>Khan</td>\n",
       "    </tr>\n",
       "    <tr>\n",
       "      <th>3521000</th>\n",
       "      <td>14526187</td>\n",
       "      <td>Queen</td>\n",
       "      <td>O'Tooley</td>\n",
       "    </tr>\n",
       "  </tbody>\n",
       "</table>\n",
       "<p>3521001 rows × 3 columns</p>\n",
       "</div>"
      ],
      "text/plain": [
       "         Voter ID County Candidate\n",
       "0        12864552  Marsh      Khan\n",
       "1        17444633  Marsh    Correy\n",
       "2        19330107  Marsh      Khan\n",
       "3        19865775  Queen      Khan\n",
       "4        11927875  Marsh      Khan\n",
       "...           ...    ...       ...\n",
       "3520996  18050509  Marsh      Khan\n",
       "3520997  13060332  Marsh      Khan\n",
       "3520998  16754708  Queen      Khan\n",
       "3520999  12083146  Queen      Khan\n",
       "3521000  14526187  Queen  O'Tooley\n",
       "\n",
       "[3521001 rows x 3 columns]"
      ]
     },
     "execution_count": 73,
     "metadata": {},
     "output_type": "execute_result"
    }
   ],
   "source": [
    "file = \"../Resources/election_data_final.csv\"\n",
    "\n",
    "df = pd.read_csv(file)\n",
    "\n",
    "\n",
    "df\n",
    "\n"
   ]
  },
  {
   "cell_type": "code",
   "execution_count": 74,
   "metadata": {},
   "outputs": [
    {
     "data": {
      "text/plain": [
       "Voter ID     3521001\n",
       "County       3521001\n",
       "Candidate    3521001\n",
       "dtype: int64"
      ]
     },
     "execution_count": 74,
     "metadata": {},
     "output_type": "execute_result"
    }
   ],
   "source": [
    "total_votes_check = df.count()\n",
    "total_votes_check"
   ]
  },
  {
   "cell_type": "code",
   "execution_count": 75,
   "metadata": {},
   "outputs": [
    {
     "data": {
      "text/plain": [
       "3521001"
      ]
     },
     "execution_count": 75,
     "metadata": {},
     "output_type": "execute_result"
    }
   ],
   "source": [
    "total_votes = df[\"Voter ID\"].count()\n",
    "total_votes"
   ]
  },
  {
   "cell_type": "code",
   "execution_count": 76,
   "metadata": {},
   "outputs": [
    {
     "data": {
      "text/plain": [
       "array(['Khan', 'Correy', 'Li', \"O'Tooley\"], dtype=object)"
      ]
     },
     "execution_count": 76,
     "metadata": {},
     "output_type": "execute_result"
    }
   ],
   "source": [
    "unique_candidates = df[\"Candidate\"].unique()\n",
    "unique_candidates"
   ]
  },
  {
   "cell_type": "code",
   "execution_count": 77,
   "metadata": {},
   "outputs": [
    {
     "data": {
      "text/plain": [
       "Khan        2218231\n",
       "Correy       704200\n",
       "Li           492940\n",
       "O'Tooley     105630\n",
       "Name: Candidate, dtype: int64"
      ]
     },
     "execution_count": 77,
     "metadata": {},
     "output_type": "execute_result"
    }
   ],
   "source": [
    "candidates_total = df[\"Candidate\"].value_counts()\n",
    "candidates_total"
   ]
  },
  {
   "cell_type": "code",
   "execution_count": 78,
   "metadata": {},
   "outputs": [
    {
     "data": {
      "text/plain": [
       "2218231"
      ]
     },
     "execution_count": 78,
     "metadata": {},
     "output_type": "execute_result"
    }
   ],
   "source": [
    "Khan_individual_count = df[\"Candidate\"].value_counts()['Khan']\n",
    "Khan_individual_count"
   ]
  },
  {
   "cell_type": "code",
   "execution_count": 58,
   "metadata": {},
   "outputs": [
    {
     "data": {
      "text/plain": [
       "704200"
      ]
     },
     "execution_count": 58,
     "metadata": {},
     "output_type": "execute_result"
    }
   ],
   "source": [
    "Correy_individual_count = df[\"Candidate\"].value_counts()['Correy']\n",
    "Correy_individual_count"
   ]
  },
  {
   "cell_type": "code",
   "execution_count": 59,
   "metadata": {},
   "outputs": [
    {
     "data": {
      "text/plain": [
       "492940"
      ]
     },
     "execution_count": 59,
     "metadata": {},
     "output_type": "execute_result"
    }
   ],
   "source": [
    "Li_individual_count = df[\"Candidate\"].value_counts()['Li']\n",
    "Li_individual_count"
   ]
  },
  {
   "cell_type": "code",
   "execution_count": 60,
   "metadata": {},
   "outputs": [
    {
     "data": {
      "text/plain": [
       "105630"
      ]
     },
     "execution_count": 60,
     "metadata": {},
     "output_type": "execute_result"
    }
   ],
   "source": [
    "oTooley_individual_count = df[\"Candidate\"].value_counts()[\"O'Tooley\"]\n",
    "oTooley_individual_count\n",
    "                                                     \n",
    "                                                          "
   ]
  },
  {
   "cell_type": "code",
   "execution_count": 61,
   "metadata": {},
   "outputs": [
    {
     "data": {
      "text/plain": [
       "63.0"
      ]
     },
     "execution_count": 61,
     "metadata": {},
     "output_type": "execute_result"
    }
   ],
   "source": [
    "Khan_percentage_vote = (Khan_individual_count/total_votes)*100\n",
    "Khan_percentage_vote = (round(Khan_percentage_vote))\n",
    "Khan_percentage_vote"
   ]
  },
  {
   "cell_type": "code",
   "execution_count": 62,
   "metadata": {},
   "outputs": [
    {
     "data": {
      "text/plain": [
       "20.0"
      ]
     },
     "execution_count": 62,
     "metadata": {},
     "output_type": "execute_result"
    }
   ],
   "source": [
    "Correy_percentage_vote = (Correy_individual_count/total_votes)*100\n",
    "Correy_percentage_vote = (round(Correy_percentage_vote))\n",
    "Correy_percentage_vote"
   ]
  },
  {
   "cell_type": "code",
   "execution_count": 63,
   "metadata": {},
   "outputs": [
    {
     "data": {
      "text/plain": [
       "14.0"
      ]
     },
     "execution_count": 63,
     "metadata": {},
     "output_type": "execute_result"
    }
   ],
   "source": [
    "Li_percentage_vote = (Li_individual_count/total_votes)*100\n",
    "Li_percentage_vote = (round(Li_percentage_vote))\n",
    "Li_percentage_vote"
   ]
  },
  {
   "cell_type": "code",
   "execution_count": 67,
   "metadata": {},
   "outputs": [
    {
     "data": {
      "text/plain": [
       "3.0"
      ]
     },
     "execution_count": 67,
     "metadata": {},
     "output_type": "execute_result"
    }
   ],
   "source": [
    "oTooley_Percentage_vote = (oTooley_individual_count/total_votes)*100\n",
    "oTooley_Percentage_vote = (round(oTooley_Percentage_vote))\n",
    "oTooley_Percentage_vote"
   ]
  },
  {
   "cell_type": "code",
   "execution_count": 70,
   "metadata": {},
   "outputs": [
    {
     "data": {
      "text/plain": [
       "'Khan'"
      ]
     },
     "execution_count": 70,
     "metadata": {},
     "output_type": "execute_result"
    }
   ],
   "source": [
    "winner_of_election = df[\"Candidate\"].value_counts().idxmax()\n",
    "winner_of_election"
   ]
  },
  {
   "cell_type": "code",
   "execution_count": 71,
   "metadata": {},
   "outputs": [
    {
     "name": "stdout",
     "output_type": "stream",
     "text": [
      "Election Results\n",
      "-----------------------------------\n",
      "Total Votes: 3521001\n",
      "-----------------------------------\n",
      "Khan: 63.0 %  ( 2218231 ) \n",
      "Correy: 20.0 %  ( 704200 ) \n",
      "Li: 14.0 %  ( 492940 ) \n",
      "O'Tooley: 3.0 %  ( 105630 ) \n",
      "-----------------------------------\n",
      "Winner: Khan\n"
     ]
    }
   ],
   "source": [
    "print(\"Election Results\")\n",
    "print(\"-----------------------------------\")\n",
    "print(\"Total Votes:\",total_votes)\n",
    "print(\"-----------------------------------\")\n",
    "print(\"Khan:\",Khan_percentage_vote, \"% \", \"(\", Khan_individual_count,\")\",\"\")\n",
    "print(\"Correy:\",Correy_percentage_vote, \"% \", \"(\", Correy_individual_count,\")\",\"\")\n",
    "print(\"Li:\",Li_percentage_vote, \"% \", \"(\", Li_individual_count,\")\",\"\")\n",
    "print(\"O'Tooley:\",oTooley_Percentage_vote, \"% \", \"(\", oTooley_individual_count,\")\",\"\")\n",
    "print(\"-----------------------------------\")\n",
    "print(\"Winner:\", winner_of_election)"
   ]
  },
  {
   "cell_type": "code",
   "execution_count": null,
   "metadata": {},
   "outputs": [],
   "source": []
  }
 ],
 "metadata": {
  "file_extension": ".py",
  "kernelspec": {
   "display_name": "Python 3",
   "language": "python",
   "name": "python3"
  },
  "language_info": {
   "codemirror_mode": {
    "name": "ipython",
    "version": 3
   },
   "file_extension": ".py",
   "mimetype": "text/x-python",
   "name": "python",
   "nbconvert_exporter": "python",
   "pygments_lexer": "ipython3",
   "version": "3.6.9"
  },
  "mimetype": "text/x-python",
  "name": "python",
  "npconvert_exporter": "python",
  "pygments_lexer": "ipython3",
  "version": 3
 },
 "nbformat": 4,
 "nbformat_minor": 2
}
